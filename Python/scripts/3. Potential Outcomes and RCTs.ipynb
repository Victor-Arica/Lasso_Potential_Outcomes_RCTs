{
 "cells": [
  {
   "cell_type": "markdown",
   "id": "e3cc2f62",
   "metadata": {},
   "source": [
    "## Grupo 4\n",
    "\n",
    "3) Potencial Outcomes and RCTs\n"
   ]
  },
  {
   "cell_type": "code",
   "execution_count": 1,
   "id": "a795837a",
   "metadata": {},
   "outputs": [],
   "source": [
    "# Librerias\n",
    "import numpy as np\n",
    "import pandas as pd\n",
    "from scipy.stats import ttest_ind\n",
    "import statsmodels.api as sm\n",
    "import statsmodels.formula.api as smf"
   ]
  },
  {
   "cell_type": "markdown",
   "id": "6d6cdcd5",
   "metadata": {},
   "source": [
    "# 3.1 Simulacion Datos"
   ]
  },
  {
   "cell_type": "code",
   "execution_count": 22,
   "id": "eec07783",
   "metadata": {},
   "outputs": [
    {
     "name": "stdout",
     "output_type": "stream",
     "text": [
      "          Y  D        x1  x2        x3        x4\n",
      "0  1.117718  0  0.471435   0  2.168089  0.499604\n",
      "1 -1.387826  0 -1.190976   0  4.656033  0.981560\n",
      "2  2.172508  1  1.432707   0  1.049496  0.137759\n",
      "3  1.761708  1 -0.312652   1  1.779408  0.628980\n",
      "4 -0.215448  1 -0.720589   0  2.731973  0.851738\n"
     ]
    }
   ],
   "source": [
    "np.random.seed(1234)\n",
    "n = 1000\n",
    "\n",
    "x1 = np.random.normal(0, 1, n)\n",
    "x2 = np.random.binomial(1, 0.5, n)\n",
    "x3 = np.random.normal(2, 2, n)\n",
    "x4 = np.random.uniform(0, 1, n)\n",
    "    \n",
    "D = np.random.binomial(1, 0.5, n)\n",
    "\n",
    "epsilon = np.random.normal(0, 1, n)\n",
    "\n",
    "Y = 2*D + 0.5*x1 - 0.3*x2 + 0.2*x3 + epsilon\n",
    "\n",
    "df = pd.DataFrame({\n",
    "    \"Y\": Y, \"D\": D, \"x1\": x1, \"x2\": x2, \"x3\": x3, \"x4\": x4\n",
    "})\n",
    "\n",
    "\n",
    "print(df.head(5))"
   ]
  },
  {
   "cell_type": "code",
   "execution_count": 7,
   "id": "ba80c8f3",
   "metadata": {},
   "outputs": [
    {
     "name": "stdout",
     "output_type": "stream",
     "text": [
      "  Variable  Treated_Mean  Control_Mean  Difference    t_stat   p_value\n",
      "0       x1      0.026877      0.005665    0.021213  0.343932  0.730970\n",
      "1       x2      0.490526      0.516190   -0.025664 -0.810038  0.418111\n",
      "2       x3      2.056260      2.152219   -0.095959 -0.773543  0.439384\n",
      "3       x4      0.507233      0.484243    0.022990  1.268364  0.204964\n"
     ]
    }
   ],
   "source": [
    "\n",
    "# Separar tratamiento y control\n",
    "treated = df[df[\"D\"] == 1]\n",
    "control = df[df[\"D\"] == 0]\n",
    "rows = []\n",
    "for var in [\"x1\", \"x2\", \"x3\", \"x4\"]:\n",
    "    t_stat, p_val = ttest_ind(treated[var], control[var])\n",
    "    rows.append({\n",
    "        \"Variable\": var,\n",
    "        \"Treated_Mean\": treated[var].mean(),\n",
    "        \"Control_Mean\": control[var].mean(),\n",
    "        \"Difference\": treated[var].mean() - control[var].mean(),\n",
    "        \"t_stat\": t_stat,\n",
    "        \"p_value\": p_val\n",
    "    })\n",
    "\n",
    "balance_table = pd.DataFrame(rows)\n",
    "print(balance_table)"
   ]
  },
  {
   "cell_type": "markdown",
   "id": "7d1f5990",
   "metadata": {},
   "source": [
    "## 3.2 Estimating the Average Treatment Effect"
   ]
  },
  {
   "cell_type": "code",
   "execution_count": null,
   "id": "97b1c5d3",
   "metadata": {},
   "outputs": [
    {
     "name": "stdout",
     "output_type": "stream",
     "text": [
      "==============================================================================\n",
      "                 coef    std err          t      P>|t|      [0.025      0.975]\n",
      "------------------------------------------------------------------------------\n",
      "Intercept      0.3194      0.053      6.075      0.000       0.216       0.423\n",
      "D              1.9418      0.076     25.455      0.000       1.792       2.091\n",
      "==============================================================================\n"
     ]
    }
   ],
   "source": [
    "# Estimate the treatment effect (ATE) using a simple regression: (1 point)\n",
    "model1 = smf.ols(\"Y ~ D\", data=df).fit()\n",
    "print(model1.summary().tables[1])"
   ]
  },
  {
   "cell_type": "code",
   "execution_count": 9,
   "id": "d85a6525",
   "metadata": {},
   "outputs": [
    {
     "name": "stdout",
     "output_type": "stream",
     "text": [
      "==============================================================================\n",
      "                 coef    std err          t      P>|t|      [0.025      0.975]\n",
      "------------------------------------------------------------------------------\n",
      "Intercept     -0.0241      0.086     -0.279      0.780      -0.194       0.145\n",
      "D              1.9441      0.065     29.962      0.000       1.817       2.071\n",
      "x1             0.4927      0.033     14.807      0.000       0.427       0.558\n",
      "x2            -0.2181      0.065     -3.368      0.001      -0.345      -0.091\n",
      "x3             0.2011      0.017     12.159      0.000       0.169       0.234\n",
      "x4             0.0422      0.113      0.373      0.710      -0.180       0.264\n",
      "==============================================================================\n"
     ]
    }
   ],
   "source": [
    "# Estimate the ATE controlling for all covariates: (1 point)\n",
    "model2 = smf.ols(\"Y ~ D + x1 + x2 + x3 + x4\", data=df).fit()\n",
    "print(model2.summary().tables[1])\n"
   ]
  },
  {
   "cell_type": "code",
   "execution_count": 14,
   "id": "2931e49a",
   "metadata": {},
   "outputs": [
    {
     "name": "stdout",
     "output_type": "stream",
     "text": [
      "ATE (sin controles): 1.942 (SE=0.076)\n",
      "ATE (con controles): 1.944 (SE=0.065)\n",
      "Difference in ATE (con - sin): -0.002 (SE=-0.011)\n"
     ]
    }
   ],
   "source": [
    "# Compare the two estimates. Answer the following questions: (1 point)\n",
    "coef_treated = model1.params[\"D\"]\n",
    "coef_control = model2.params[\"D\"]\n",
    "se_treated = model1.bse[\"D\"]\n",
    "se_control = model2.bse[\"D\"]\n",
    "\n",
    "print(f\"ATE (sin controles): {coef_treated:.3f} (SE={se_treated:.3f})\")\n",
    "print(f\"ATE (con controles): {coef_control:.3f} (SE={se_control:.3f})\")\n",
    "print(f\"Difference in ATE (con - sin): {coef_treated - coef_control:.3f} (SE={se_control - se_treated:.3f})\")\n"
   ]
  },
  {
   "cell_type": "markdown",
   "id": "926e0cc7",
   "metadata": {},
   "source": [
    "# 3.3) LASSO and Variable Selection\n"
   ]
  },
  {
   "cell_type": "code",
   "execution_count": 24,
   "id": "6ea3748c",
   "metadata": {},
   "outputs": [],
   "source": [
    "from sklearn.linear_model import LassoCV\n",
    "import numpy as np"
   ]
  },
  {
   "cell_type": "code",
   "execution_count": 33,
   "id": "125b6e3e",
   "metadata": {},
   "outputs": [
    {
     "name": "stdout",
     "output_type": "stream",
     "text": [
      "Optimal alpha (λ): 0.0007465970591700263\n"
     ]
    }
   ],
   "source": [
    "# Prepare data for LASSO\n",
    "X = df[['x1','x2','x3','x4']].to_numpy()\n",
    "Y = df['Y'].to_numpy()\n",
    "\n",
    "# Cross-validation (10 folds by default)\n",
    "lasso = LassoCV(cv=10, random_state=1234).fit(X, Y)\n",
    "\n",
    "coef = pd.Series(lasso.coef_, index=['x1','x2','x3','x4'])\n",
    "selected = coef[coef != 0].index.tolist()\n",
    "\n",
    "\n",
    "print(\"Optimal alpha (λ):\", lasso.alpha_)"
   ]
  },
  {
   "cell_type": "code",
   "execution_count": 38,
   "id": "f64b99ad",
   "metadata": {},
   "outputs": [
    {
     "name": "stdout",
     "output_type": "stream",
     "text": [
      "ATE (coef D): 1.9441\n",
      "SE: 0.0649\n",
      "95% CI: [1.8167, 2.0714]\n"
     ]
    }
   ],
   "source": [
    "# Re-estimate the ATE with only the covariates selected by LASSO: (1 point)\n",
    "\n",
    "X_selected = df[['D'] + selected]\n",
    "X_selected = sm.add_constant(X_selected, has_constant='add')\n",
    "X_lasso = sm.OLS(df['Y'], X_selected).fit()\n",
    "ate_lasso = X_lasso.params['D']\n",
    "se_lasso  = X_lasso.bse['D']\n",
    "ci_lasso  = X_lasso.conf_int().loc['D'].tolist()\n",
    "\n",
    "\n",
    "print(f\"ATE (coef D): {ate_lasso:.4f}\\nSE: {se_lasso:.4f}\\n95% CI: [{ci_lasso[0]:.4f}, {ci_lasso[1]:.4f}]\")\n"
   ]
  },
  {
   "cell_type": "code",
   "execution_count": 40,
   "id": "db43016b",
   "metadata": {},
   "outputs": [
    {
     "name": "stdout",
     "output_type": "stream",
     "text": [
      "Simple ATE (3.2.1): 1.9418\n",
      "ATE with all controls (3.2.2): 1.9441\n",
      "ATE with controls selected by LASSO (3.3.2): 1.9441\n",
      "Comment: The ATE should be stable because the treatment was randomly assigned.\n",
      "Using LASSO can reduce noise, improve precision, and select only the most relevant covariates.\n"
     ]
    }
   ],
   "source": [
    "print(f\"Simple ATE (3.2.1): {coef_treated:.4f}\")\n",
    "print(f\"ATE with all controls (3.2.2): {coef_control:.4f}\")\n",
    "print(f\"ATE with controls selected by LASSO (3.3.2): {ate_lasso:.4f}\")\n",
    "print(\"Comment: The ATE should be stable because the treatment was randomly assigned.\")\n",
    "print(\"Using LASSO can reduce noise, improve precision, and select only the most relevant covariates.\")"
   ]
  }
 ],
 "metadata": {
  "kernelspec": {
   "display_name": "CML (3.11.4)",
   "language": "python",
   "name": "python3"
  },
  "language_info": {
   "codemirror_mode": {
    "name": "ipython",
    "version": 3
   },
   "file_extension": ".py",
   "mimetype": "text/x-python",
   "name": "python",
   "nbconvert_exporter": "python",
   "pygments_lexer": "ipython3",
   "version": "3.11.4"
  }
 },
 "nbformat": 4,
 "nbformat_minor": 5
}
